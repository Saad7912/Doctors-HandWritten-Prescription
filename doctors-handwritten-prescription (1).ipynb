{
 "cells": [
  {
   "cell_type": "code",
   "execution_count": 1,
   "id": "312ae96c",
   "metadata": {
    "_cell_guid": "b1076dfc-b9ad-4769-8c92-a6c4dae69d19",
    "_uuid": "8f2839f25d086af736a60e9eeb907d3b93b6e0e5",
    "execution": {
     "iopub.execute_input": "2025-05-13T07:30:22.372788Z",
     "iopub.status.busy": "2025-05-13T07:30:22.372436Z",
     "iopub.status.idle": "2025-05-13T07:30:24.970691Z",
     "shell.execute_reply": "2025-05-13T07:30:24.969917Z"
    },
    "papermill": {
     "duration": 2.607309,
     "end_time": "2025-05-13T07:30:24.972482",
     "exception": false,
     "start_time": "2025-05-13T07:30:22.365173",
     "status": "completed"
    },
    "tags": []
   },
   "outputs": [],
   "source": [
    "import os\n",
    "import cv2\n",
    "import numpy as np\n",
    "import matplotlib.pyplot as plt\n",
    "import seaborn as sns\n",
    "import pandas as pd\n",
    "from collections import Counter"
   ]
  },
  {
   "cell_type": "code",
   "execution_count": 2,
   "id": "9ada18b1",
   "metadata": {
    "execution": {
     "iopub.execute_input": "2025-05-13T07:30:24.984928Z",
     "iopub.status.busy": "2025-05-13T07:30:24.984503Z",
     "iopub.status.idle": "2025-05-13T07:30:25.004895Z",
     "shell.execute_reply": "2025-05-13T07:30:25.004095Z"
    },
    "papermill": {
     "duration": 0.028216,
     "end_time": "2025-05-13T07:30:25.006515",
     "exception": false,
     "start_time": "2025-05-13T07:30:24.978299",
     "status": "completed"
    },
    "tags": []
   },
   "outputs": [],
   "source": [
    "train_CSV = \"/kaggle/input/doctors-handwritten-prescription-bd-dataset/Doctor’s Handwritten Prescription BD dataset/Training/training_labels.csv\"\n",
    "df = pd.read_csv(train_CSV)"
   ]
  },
  {
   "cell_type": "code",
   "execution_count": 3,
   "id": "52e6e177",
   "metadata": {
    "execution": {
     "iopub.execute_input": "2025-05-13T07:30:25.018519Z",
     "iopub.status.busy": "2025-05-13T07:30:25.018207Z",
     "iopub.status.idle": "2025-05-13T07:30:25.021752Z",
     "shell.execute_reply": "2025-05-13T07:30:25.020935Z"
    },
    "papermill": {
     "duration": 0.011018,
     "end_time": "2025-05-13T07:30:25.023138",
     "exception": false,
     "start_time": "2025-05-13T07:30:25.012120",
     "status": "completed"
    },
    "tags": []
   },
   "outputs": [],
   "source": [
    "train_image = \"/kaggle/input/doctors-handwritten-prescription-bd-dataset/Doctor’s Handwritten Prescription BD dataset/Training/training_words\""
   ]
  },
  {
   "cell_type": "code",
   "execution_count": 4,
   "id": "464fb957",
   "metadata": {
    "execution": {
     "iopub.execute_input": "2025-05-13T07:30:25.035205Z",
     "iopub.status.busy": "2025-05-13T07:30:25.034889Z",
     "iopub.status.idle": "2025-05-13T07:30:48.663577Z",
     "shell.execute_reply": "2025-05-13T07:30:48.662529Z"
    },
    "papermill": {
     "duration": 23.63682,
     "end_time": "2025-05-13T07:30:48.665543",
     "exception": false,
     "start_time": "2025-05-13T07:30:25.028723",
     "status": "completed"
    },
    "tags": []
   },
   "outputs": [],
   "source": [
    "import os\n",
    "import pandas as pd\n",
    "import cv2\n",
    "from PIL import Image\n",
    "import numpy as np\n",
    "import pytesseract\n",
    "import tensorflow as tf\n",
    "from transformers import BertTokenizerFast, TFBertForMaskedLM, BertConfig\n",
    "from sklearn.metrics import precision_score, recall_score, f1_score, accuracy_score\n"
   ]
  },
  {
   "cell_type": "code",
   "execution_count": 5,
   "id": "b957501d",
   "metadata": {
    "execution": {
     "iopub.execute_input": "2025-05-13T07:30:48.678268Z",
     "iopub.status.busy": "2025-05-13T07:30:48.677591Z",
     "iopub.status.idle": "2025-05-13T07:30:48.682216Z",
     "shell.execute_reply": "2025-05-13T07:30:48.681437Z"
    },
    "papermill": {
     "duration": 0.012191,
     "end_time": "2025-05-13T07:30:48.683550",
     "exception": false,
     "start_time": "2025-05-13T07:30:48.671359",
     "status": "completed"
    },
    "tags": []
   },
   "outputs": [],
   "source": [
    "# Define base directory where images and CSV files are stored\n",
    "base_dir = \"/kaggle/input/doctors-handwritten-prescription-bd-dataset/Doctor’s Handwritten Prescription BD dataset\"  \n",
    "\n",
    "# Image folders\n",
    "train_img_dir = os.path.join(base_dir, \"Training/training_words\") \n",
    "val_img_dir = os.path.join(base_dir, \"Validation/validation_words\")\n",
    "test_img_dir = os.path.join(base_dir, \"Testing/testing_words\")"
   ]
  },
  {
   "cell_type": "code",
   "execution_count": 6,
   "id": "2aac54d9",
   "metadata": {
    "execution": {
     "iopub.execute_input": "2025-05-13T07:30:48.695107Z",
     "iopub.status.busy": "2025-05-13T07:30:48.694788Z",
     "iopub.status.idle": "2025-05-13T07:30:48.698370Z",
     "shell.execute_reply": "2025-05-13T07:30:48.697633Z"
    },
    "papermill": {
     "duration": 0.010684,
     "end_time": "2025-05-13T07:30:48.699610",
     "exception": false,
     "start_time": "2025-05-13T07:30:48.688926",
     "status": "completed"
    },
    "tags": []
   },
   "outputs": [],
   "source": [
    "train_csv = \"/kaggle/input/doctors-handwritten-prescription-bd-dataset/Doctor’s Handwritten Prescription BD dataset/Training/training_labels.csv\"\n",
    "val_csv = \"/kaggle/input/doctors-handwritten-prescription-bd-dataset/Doctor’s Handwritten Prescription BD dataset/Validation/validation_labels.csv\"\n",
    "test_csv = \"/kaggle/input/doctors-handwritten-prescription-bd-dataset/Doctor’s Handwritten Prescription BD dataset/Testing/testing_labels.csv\""
   ]
  },
  {
   "cell_type": "markdown",
   "id": "882e614a",
   "metadata": {
    "papermill": {
     "duration": 0.005041,
     "end_time": "2025-05-13T07:30:48.709978",
     "exception": false,
     "start_time": "2025-05-13T07:30:48.704937",
     "status": "completed"
    },
    "tags": []
   },
   "source": [
    "# **Tesseract**"
   ]
  },
  {
   "cell_type": "code",
   "execution_count": 7,
   "id": "82a422b8",
   "metadata": {
    "execution": {
     "iopub.execute_input": "2025-05-13T07:30:48.721425Z",
     "iopub.status.busy": "2025-05-13T07:30:48.721136Z",
     "iopub.status.idle": "2025-05-13T07:30:48.725258Z",
     "shell.execute_reply": "2025-05-13T07:30:48.724453Z"
    },
    "papermill": {
     "duration": 0.011445,
     "end_time": "2025-05-13T07:30:48.726612",
     "exception": false,
     "start_time": "2025-05-13T07:30:48.715167",
     "status": "completed"
    },
    "tags": []
   },
   "outputs": [],
   "source": [
    "def preprocess_image(image_path):\n",
    "    img = cv2.imread(image_path, cv2.IMREAD_GRAYSCALE)\n",
    "    img = cv2.resize(img, (128, 32))\n",
    "    _, img = cv2.threshold(img, 150, 255, cv2.THRESH_BINARY + cv2.THRESH_OTSU)\n",
    "    return img"
   ]
  },
  {
   "cell_type": "code",
   "execution_count": 8,
   "id": "0a62a01d",
   "metadata": {
    "execution": {
     "iopub.execute_input": "2025-05-13T07:30:48.738102Z",
     "iopub.status.busy": "2025-05-13T07:30:48.737778Z",
     "iopub.status.idle": "2025-05-13T07:30:48.741724Z",
     "shell.execute_reply": "2025-05-13T07:30:48.740946Z"
    },
    "papermill": {
     "duration": 0.011228,
     "end_time": "2025-05-13T07:30:48.743124",
     "exception": false,
     "start_time": "2025-05-13T07:30:48.731896",
     "status": "completed"
    },
    "tags": []
   },
   "outputs": [],
   "source": [
    "def extract_text_with_ocr(image_path):\n",
    "    preprocessed_image = preprocess_image(image_path)\n",
    "    img = Image.fromarray(preprocessed_image)\n",
    "    extracted_text = pytesseract.image_to_string(img)\n",
    "    return extracted_text"
   ]
  },
  {
   "cell_type": "code",
   "execution_count": 9,
   "id": "878f3fd4",
   "metadata": {
    "execution": {
     "iopub.execute_input": "2025-05-13T07:30:48.754642Z",
     "iopub.status.busy": "2025-05-13T07:30:48.754370Z",
     "iopub.status.idle": "2025-05-13T07:30:48.758754Z",
     "shell.execute_reply": "2025-05-13T07:30:48.758048Z"
    },
    "papermill": {
     "duration": 0.01165,
     "end_time": "2025-05-13T07:30:48.760129",
     "exception": false,
     "start_time": "2025-05-13T07:30:48.748479",
     "status": "completed"
    },
    "tags": []
   },
   "outputs": [],
   "source": [
    "import pytesseract\n",
    "def XYocr(csv,img_dir):\n",
    "    df=pd.read_csv(f\"{csv}\")\n",
    "    Y=df['MEDICINE_NAME']\n",
    "\n",
    "    image_folder=f\"{img_dir}\"\n",
    "    image_paths=[os.path.join(image_folder,filename) for filename in df['IMAGE']]\n",
    "    X = [extract_text_with_ocr(image_path) for image_path in image_paths]\n",
    "\n",
    "    return X,Y"
   ]
  },
  {
   "cell_type": "code",
   "execution_count": 10,
   "id": "10af000c",
   "metadata": {
    "execution": {
     "iopub.execute_input": "2025-05-13T07:30:48.771870Z",
     "iopub.status.busy": "2025-05-13T07:30:48.771556Z",
     "iopub.status.idle": "2025-05-13T07:41:14.335671Z",
     "shell.execute_reply": "2025-05-13T07:41:14.334736Z"
    },
    "papermill": {
     "duration": 625.57219,
     "end_time": "2025-05-13T07:41:14.337606",
     "exception": false,
     "start_time": "2025-05-13T07:30:48.765416",
     "status": "completed"
    },
    "tags": []
   },
   "outputs": [],
   "source": [
    "xTrain,yTrain=XYocr(train_csv,train_img_dir)\n",
    "xVal,yVal=XYocr(val_csv,val_img_dir)\n",
    "xTest,yTest = XYocr(test_csv,test_img_dir)"
   ]
  },
  {
   "cell_type": "code",
   "execution_count": null,
   "id": "4091d371",
   "metadata": {
    "execution": {
     "iopub.execute_input": "2025-05-13T07:41:14.350929Z",
     "iopub.status.busy": "2025-05-13T07:41:14.350560Z",
     "iopub.status.idle": "2025-05-13T07:41:14.355894Z",
     "shell.execute_reply": "2025-05-13T07:41:14.354947Z"
    },
    "papermill": {
     "duration": 0.013362,
     "end_time": "2025-05-13T07:41:14.357441",
     "exception": false,
     "start_time": "2025-05-13T07:41:14.344079",
     "status": "completed"
    },
    "tags": []
   },
   "outputs": [],
   "source": [
    "vocab_list = list(\"abcdefghijklmnopqrstuvwxyzABCDEFGHIJKLMNOPQRSTUVWXYZ .,!?\")\n",
    "vocab = {char: i for i, char in enumerate(vocab_list, start=1)}\n",
    "vocab[\"[PAD]\"] = 0\n",
    "vocab[\"[MASK]\"] = len(vocab) + 1\n",
    "vocab[\"[CLS]\"] = len(vocab) + 2\n",
    "vocab[\"[SEP]\"] = len(vocab) + 3\n",
    "vocab[\"[UNK]\"] = len(vocab) + 4\n"
   ]
  },
  {
   "cell_type": "code",
   "execution_count": 12,
   "id": "2a9bcaca",
   "metadata": {
    "execution": {
     "iopub.execute_input": "2025-05-13T07:41:14.370156Z",
     "iopub.status.busy": "2025-05-13T07:41:14.369795Z",
     "iopub.status.idle": "2025-05-13T07:41:14.374023Z",
     "shell.execute_reply": "2025-05-13T07:41:14.373251Z"
    },
    "papermill": {
     "duration": 0.012031,
     "end_time": "2025-05-13T07:41:14.375394",
     "exception": false,
     "start_time": "2025-05-13T07:41:14.363363",
     "status": "completed"
    },
    "tags": []
   },
   "outputs": [],
   "source": [
    "vocab_file = \"vocab.txt\"\n",
    "with open(vocab_file, \"w\") as f:\n",
    "    for token in vocab:\n",
    "        f.write(token + \"\\n\")"
   ]
  },
  {
   "cell_type": "code",
   "execution_count": 13,
   "id": "512011dd",
   "metadata": {
    "execution": {
     "iopub.execute_input": "2025-05-13T07:41:14.387758Z",
     "iopub.status.busy": "2025-05-13T07:41:14.387434Z",
     "iopub.status.idle": "2025-05-13T07:41:14.406550Z",
     "shell.execute_reply": "2025-05-13T07:41:14.405779Z"
    },
    "papermill": {
     "duration": 0.0271,
     "end_time": "2025-05-13T07:41:14.408224",
     "exception": false,
     "start_time": "2025-05-13T07:41:14.381124",
     "status": "completed"
    },
    "tags": []
   },
   "outputs": [],
   "source": [
    "tokenizer = BertTokenizerFast(vocab_file=vocab_file)\n",
    "tokenizer.pad_token = \"[PAD]\"\n",
    "tokenizer.mask_token = \"[MASK]\"\n",
    "tokenizer.cls_token = \"[CLS]\"\n",
    "tokenizer.sep_token = \"[SEP]\"\n",
    "tokenizer.unk_token = \"[UNK]\"\n"
   ]
  },
  {
   "cell_type": "code",
   "execution_count": 14,
   "id": "411b5f7d",
   "metadata": {
    "execution": {
     "iopub.execute_input": "2025-05-13T07:41:14.420964Z",
     "iopub.status.busy": "2025-05-13T07:41:14.420622Z",
     "iopub.status.idle": "2025-05-13T07:41:14.424268Z",
     "shell.execute_reply": "2025-05-13T07:41:14.423450Z"
    },
    "papermill": {
     "duration": 0.011543,
     "end_time": "2025-05-13T07:41:14.425676",
     "exception": false,
     "start_time": "2025-05-13T07:41:14.414133",
     "status": "completed"
    },
    "tags": []
   },
   "outputs": [],
   "source": [
    "max_length = 128"
   ]
  },
  {
   "cell_type": "markdown",
   "id": "c216fd86",
   "metadata": {
    "papermill": {
     "duration": 0.005437,
     "end_time": "2025-05-13T07:41:14.437025",
     "exception": false,
     "start_time": "2025-05-13T07:41:14.431588",
     "status": "completed"
    },
    "tags": []
   },
   "source": [
    "# **Encoding**"
   ]
  },
  {
   "cell_type": "code",
   "execution_count": 15,
   "id": "23481077",
   "metadata": {
    "execution": {
     "iopub.execute_input": "2025-05-13T07:41:14.449487Z",
     "iopub.status.busy": "2025-05-13T07:41:14.449132Z",
     "iopub.status.idle": "2025-05-13T07:41:14.453581Z",
     "shell.execute_reply": "2025-05-13T07:41:14.452766Z"
    },
    "papermill": {
     "duration": 0.012419,
     "end_time": "2025-05-13T07:41:14.455111",
     "exception": false,
     "start_time": "2025-05-13T07:41:14.442692",
     "status": "completed"
    },
    "tags": []
   },
   "outputs": [],
   "source": [
    "def encode_dataset(texts, labels):\n",
    "    input_encodings = tokenizer(texts, truncation=True, padding='max_length', max_length=max_length, return_tensors='tf')\n",
    "    label_encodings = tokenizer(labels.tolist(), truncation=True, padding='max_length', max_length=max_length, return_tensors='tf')\n",
    "    return input_encodings, label_encodings"
   ]
  },
  {
   "cell_type": "code",
   "execution_count": 16,
   "id": "c300e201",
   "metadata": {
    "execution": {
     "iopub.execute_input": "2025-05-13T07:41:14.468355Z",
     "iopub.status.busy": "2025-05-13T07:41:14.467926Z",
     "iopub.status.idle": "2025-05-13T07:41:15.153623Z",
     "shell.execute_reply": "2025-05-13T07:41:15.152536Z"
    },
    "papermill": {
     "duration": 0.693935,
     "end_time": "2025-05-13T07:41:15.155404",
     "exception": false,
     "start_time": "2025-05-13T07:41:14.461469",
     "status": "completed"
    },
    "tags": []
   },
   "outputs": [],
   "source": [
    "train_inputs, train_labels = encode_dataset(xTrain, yTrain)\n",
    "val_inputs, val_labels = encode_dataset(xVal, yVal)\n",
    "test_inputs, test_labels = encode_dataset(xTest, yTest)"
   ]
  },
  {
   "cell_type": "code",
   "execution_count": 17,
   "id": "18594c62",
   "metadata": {
    "execution": {
     "iopub.execute_input": "2025-05-13T07:41:15.168487Z",
     "iopub.status.busy": "2025-05-13T07:41:15.168154Z",
     "iopub.status.idle": "2025-05-13T07:41:15.181681Z",
     "shell.execute_reply": "2025-05-13T07:41:15.180874Z"
    },
    "papermill": {
     "duration": 0.021989,
     "end_time": "2025-05-13T07:41:15.183429",
     "exception": false,
     "start_time": "2025-05-13T07:41:15.161440",
     "status": "completed"
    },
    "tags": []
   },
   "outputs": [],
   "source": [
    "train_dataset = tf.data.Dataset.from_tensor_slices((\n",
    "    {\n",
    "        \"input_ids\": train_inputs[\"input_ids\"],\n",
    "        \"attention_mask\": train_inputs[\"attention_mask\"]\n",
    "    },\n",
    "    train_labels[\"input_ids\"]\n",
    ")).batch(4)"
   ]
  },
  {
   "cell_type": "code",
   "execution_count": 18,
   "id": "1611ef1b",
   "metadata": {
    "execution": {
     "iopub.execute_input": "2025-05-13T07:41:15.196477Z",
     "iopub.status.busy": "2025-05-13T07:41:15.196146Z",
     "iopub.status.idle": "2025-05-13T07:41:15.203818Z",
     "shell.execute_reply": "2025-05-13T07:41:15.203022Z"
    },
    "papermill": {
     "duration": 0.015984,
     "end_time": "2025-05-13T07:41:15.205365",
     "exception": false,
     "start_time": "2025-05-13T07:41:15.189381",
     "status": "completed"
    },
    "tags": []
   },
   "outputs": [],
   "source": [
    "val_dataset = tf.data.Dataset.from_tensor_slices((\n",
    "    {\n",
    "        \"input_ids\": val_inputs[\"input_ids\"],\n",
    "        \"attention_mask\": val_inputs[\"attention_mask\"]\n",
    "    },\n",
    "    val_labels[\"input_ids\"]\n",
    ")).batch(4)"
   ]
  },
  {
   "cell_type": "code",
   "execution_count": 19,
   "id": "de57c9e0",
   "metadata": {
    "execution": {
     "iopub.execute_input": "2025-05-13T07:41:15.218654Z",
     "iopub.status.busy": "2025-05-13T07:41:15.218235Z",
     "iopub.status.idle": "2025-05-13T07:41:15.228313Z",
     "shell.execute_reply": "2025-05-13T07:41:15.227300Z"
    },
    "papermill": {
     "duration": 0.019041,
     "end_time": "2025-05-13T07:41:15.230404",
     "exception": false,
     "start_time": "2025-05-13T07:41:15.211363",
     "status": "completed"
    },
    "tags": []
   },
   "outputs": [],
   "source": [
    "\n",
    "test_dataset = tf.data.Dataset.from_tensor_slices((\n",
    "    {\n",
    "        \"input_ids\": test_inputs[\"input_ids\"],\n",
    "        \"attention_mask\": test_inputs[\"attention_mask\"]\n",
    "    },\n",
    "    test_labels[\"input_ids\"]\n",
    ")).batch(4)"
   ]
  },
  {
   "cell_type": "code",
   "execution_count": 20,
   "id": "a34446c9",
   "metadata": {
    "execution": {
     "iopub.execute_input": "2025-05-13T07:41:15.249430Z",
     "iopub.status.busy": "2025-05-13T07:41:15.248908Z",
     "iopub.status.idle": "2025-05-13T07:41:15.256860Z",
     "shell.execute_reply": "2025-05-13T07:41:15.255509Z"
    },
    "papermill": {
     "duration": 0.019768,
     "end_time": "2025-05-13T07:41:15.259267",
     "exception": false,
     "start_time": "2025-05-13T07:41:15.239499",
     "status": "completed"
    },
    "tags": []
   },
   "outputs": [],
   "source": [
    "import tensorflow as tf\n",
    "from transformers import BertConfig, TFBertForMaskedLM\n",
    "\n",
    "# 2. Define custom metric\n",
    "def masked_accuracy(y_true, y_pred):\n",
    "    y_true = tf.cast(y_true, tf.int64)\n",
    "    mask = tf.math.not_equal(y_true, 0)\n",
    "    y_pred_ids = tf.argmax(y_pred, axis=-1, output_type=tf.int64)\n",
    "    matches = tf.equal(y_true, y_pred_ids)\n",
    "    matches = tf.logical_and(mask, matches)\n",
    "    accuracy = tf.reduce_sum(tf.cast(matches, tf.float32)) / tf.reduce_sum(tf.cast(mask, tf.float32))\n",
    "    return accuracy"
   ]
  },
  {
   "cell_type": "code",
   "execution_count": 21,
   "id": "933d3256",
   "metadata": {
    "execution": {
     "iopub.execute_input": "2025-05-13T07:41:15.274652Z",
     "iopub.status.busy": "2025-05-13T07:41:15.274130Z",
     "iopub.status.idle": "2025-05-13T07:41:15.279214Z",
     "shell.execute_reply": "2025-05-13T07:41:15.278301Z"
    },
    "papermill": {
     "duration": 0.014696,
     "end_time": "2025-05-13T07:41:15.280959",
     "exception": false,
     "start_time": "2025-05-13T07:41:15.266263",
     "status": "completed"
    },
    "tags": []
   },
   "outputs": [],
   "source": [
    "config = BertConfig(\n",
    "    vocab_size=len(vocab),\n",
    "    hidden_size=256,\n",
    "    num_hidden_layers=6,\n",
    "    num_attention_heads=8,\n",
    "    intermediate_size=512,\n",
    "    max_position_embeddings=512\n",
    ")"
   ]
  },
  {
   "cell_type": "code",
   "execution_count": 22,
   "id": "90459b0c",
   "metadata": {
    "execution": {
     "iopub.execute_input": "2025-05-13T07:41:15.299332Z",
     "iopub.status.busy": "2025-05-13T07:41:15.298956Z",
     "iopub.status.idle": "2025-05-13T07:41:15.409268Z",
     "shell.execute_reply": "2025-05-13T07:41:15.408213Z"
    },
    "papermill": {
     "duration": 0.121375,
     "end_time": "2025-05-13T07:41:15.411091",
     "exception": false,
     "start_time": "2025-05-13T07:41:15.289716",
     "status": "completed"
    },
    "tags": []
   },
   "outputs": [],
   "source": [
    "model = TFBertForMaskedLM(config)"
   ]
  },
  {
   "cell_type": "code",
   "execution_count": 23,
   "id": "04a4a56f",
   "metadata": {
    "execution": {
     "iopub.execute_input": "2025-05-13T07:41:15.424385Z",
     "iopub.status.busy": "2025-05-13T07:41:15.423979Z",
     "iopub.status.idle": "2025-05-13T07:41:15.555296Z",
     "shell.execute_reply": "2025-05-13T07:41:15.554471Z"
    },
    "papermill": {
     "duration": 0.139817,
     "end_time": "2025-05-13T07:41:15.557069",
     "exception": false,
     "start_time": "2025-05-13T07:41:15.417252",
     "status": "completed"
    },
    "tags": []
   },
   "outputs": [],
   "source": [
    "optimizer = tf.keras.optimizers.Adam(learning_rate=0.0001)\n",
    "loss = tf.keras.losses.SparseCategoricalCrossentropy(from_logits=True)"
   ]
  },
  {
   "cell_type": "code",
   "execution_count": null,
   "id": "468cc3d1",
   "metadata": {
    "execution": {
     "iopub.execute_input": "2025-05-13T07:41:15.570482Z",
     "iopub.status.busy": "2025-05-13T07:41:15.570150Z",
     "iopub.status.idle": "2025-05-13T07:41:15.590700Z",
     "shell.execute_reply": "2025-05-13T07:41:15.589907Z"
    },
    "papermill": {
     "duration": 0.02922,
     "end_time": "2025-05-13T07:41:15.592479",
     "exception": false,
     "start_time": "2025-05-13T07:41:15.563259",
     "status": "completed"
    },
    "tags": []
   },
   "outputs": [],
   "source": [
    "model.compile(optimizer=optimizer, loss=loss, metrics=[masked_accuracy])  # 👈 Add custom metric here"
   ]
  },
  {
   "cell_type": "markdown",
   "id": "0c5edd16",
   "metadata": {
    "papermill": {
     "duration": 0.005757,
     "end_time": "2025-05-13T07:41:15.604377",
     "exception": false,
     "start_time": "2025-05-13T07:41:15.598620",
     "status": "completed"
    },
    "tags": []
   },
   "source": [
    "# **Model Training**"
   ]
  },
  {
   "cell_type": "code",
   "execution_count": null,
   "id": "15adee91",
   "metadata": {
    "execution": {
     "iopub.execute_input": "2025-05-13T07:41:15.617417Z",
     "iopub.status.busy": "2025-05-13T07:41:15.617045Z",
     "iopub.status.idle": "2025-05-13T07:50:05.351290Z",
     "shell.execute_reply": "2025-05-13T07:50:05.350215Z"
    },
    "papermill": {
     "duration": 529.869325,
     "end_time": "2025-05-13T07:50:05.479652",
     "exception": false,
     "start_time": "2025-05-13T07:41:15.610327",
     "status": "completed"
    },
    "tags": []
   },
   "outputs": [
    {
     "name": "stdout",
     "output_type": "stream",
     "text": [
      "Epoch 1/3\n",
      "780/780 [==============================] - 193s 223ms/step - loss: 0.1045 - masked_accuracy: 0.9924 - val_loss: 0.0096 - val_masked_accuracy: 0.9991\n",
      "Epoch 2/3\n",
      "780/780 [==============================] - 168s 216ms/step - loss: 0.0084 - masked_accuracy: 0.9987 - val_loss: 0.0070 - val_masked_accuracy: 0.9991\n",
      "Epoch 3/3\n",
      "780/780 [==============================] - 169s 217ms/step - loss: 0.0066 - masked_accuracy: 0.9986 - val_loss: 0.0061 - val_masked_accuracy: 0.9991\n"
     ]
    }
   ],
   "source": [
    "history = model.fit(\n",
    "    train_dataset,\n",
    "    validation_data=val_dataset,\n",
    "    epochs=3\n",
    ")\n"
   ]
  },
  {
   "cell_type": "code",
   "execution_count": 26,
   "id": "4b30a5ee",
   "metadata": {
    "execution": {
     "iopub.execute_input": "2025-05-13T07:50:05.745903Z",
     "iopub.status.busy": "2025-05-13T07:50:05.745560Z",
     "iopub.status.idle": "2025-05-13T07:50:18.257541Z",
     "shell.execute_reply": "2025-05-13T07:50:18.256679Z"
    },
    "papermill": {
     "duration": 12.64527,
     "end_time": "2025-05-13T07:50:18.258862",
     "exception": false,
     "start_time": "2025-05-13T07:50:05.613592",
     "status": "completed"
    },
    "tags": []
   },
   "outputs": [
    {
     "name": "stdout",
     "output_type": "stream",
     "text": [
      "195/195 [==============================] - 13s 64ms/step - loss: 0.0061 - masked_accuracy: 0.9991\n"
     ]
    },
    {
     "data": {
      "text/plain": [
       "[0.00607823021709919, 0.999098539352417]"
      ]
     },
     "execution_count": 26,
     "metadata": {},
     "output_type": "execute_result"
    }
   ],
   "source": [
    "model.evaluate(test_dataset)"
   ]
  },
  {
   "cell_type": "markdown",
   "id": "f95e0e90",
   "metadata": {
    "papermill": {
     "duration": 0.140498,
     "end_time": "2025-05-13T07:50:18.543165",
     "exception": false,
     "start_time": "2025-05-13T07:50:18.402667",
     "status": "completed"
    },
    "tags": []
   },
   "source": [
    "# **Evaluation Matrix**"
   ]
  },
  {
   "cell_type": "code",
   "execution_count": null,
   "id": "7420a86d",
   "metadata": {
    "execution": {
     "iopub.execute_input": "2025-05-13T07:50:18.831196Z",
     "iopub.status.busy": "2025-05-13T07:50:18.830799Z",
     "iopub.status.idle": "2025-05-13T07:50:56.335306Z",
     "shell.execute_reply": "2025-05-13T07:50:56.334188Z"
    },
    "papermill": {
     "duration": 37.847677,
     "end_time": "2025-05-13T07:50:56.535649",
     "exception": false,
     "start_time": "2025-05-13T07:50:18.687972",
     "status": "completed"
    },
    "tags": []
   },
   "outputs": [
    {
     "name": "stdout",
     "output_type": "stream",
     "text": [
      "\n",
      "Evaluation Metrics on Test Set:\n",
      "Accuracy:  0.9991\n",
      "Precision: 0.9250\n",
      "Recall:    0.9230\n",
      "F1 Score:  0.9239\n"
     ]
    }
   ],
   "source": [
    "def decode_predictions(pred_ids):\n",
    "    return tokenizer.batch_decode(pred_ids, skip_special_tokens=True)\n",
    "\n",
    "true_labels = []\n",
    "pred_labels = []\n",
    "\n",
    "for batch in test_dataset:\n",
    "    inputs, labels = batch\n",
    "    predictions = model(inputs, training=False).logits\n",
    "    pred_ids = tf.argmax(predictions, axis=-1)\n",
    "\n",
    "    for true, pred in zip(labels.numpy(), pred_ids.numpy()):\n",
    "        # Remove padding tokens (token_id == 0)\n",
    "        true = true[true != 0]\n",
    "        pred = pred[:len(true)]\n",
    "\n",
    "        true_labels.extend(true)\n",
    "        pred_labels.extend(pred)\n",
    "\n",
    "precision = precision_score(true_labels, pred_labels, average='macro', zero_division=0)\n",
    "recall = recall_score(true_labels, pred_labels, average='macro', zero_division=0)\n",
    "f1 = f1_score(true_labels, pred_labels, average='macro', zero_division=0)\n",
    "accuracy = accuracy_score(true_labels, pred_labels)\n",
    "\n",
    "# Print the results\n",
    "print(\"\\nEvaluation Metrics on Test Set:\")\n",
    "print(f\"Accuracy:  {accuracy:.4f}\")\n",
    "print(f\"Precision: {precision:.4f}\")\n",
    "print(f\"Recall:    {recall:.4f}\")\n",
    "print(f\"F1 Score:  {f1:.4f}\")"
   ]
  },
  {
   "cell_type": "code",
   "execution_count": 28,
   "id": "0d9dd110",
   "metadata": {
    "execution": {
     "iopub.execute_input": "2025-05-13T07:50:56.826312Z",
     "iopub.status.busy": "2025-05-13T07:50:56.825828Z",
     "iopub.status.idle": "2025-05-13T07:50:56.941260Z",
     "shell.execute_reply": "2025-05-13T07:50:56.940197Z"
    },
    "papermill": {
     "duration": 0.263547,
     "end_time": "2025-05-13T07:50:56.942812",
     "exception": false,
     "start_time": "2025-05-13T07:50:56.679265",
     "status": "completed"
    },
    "tags": []
   },
   "outputs": [
    {
     "data": {
      "text/plain": [
       "('saved_prescription_model/tokenizer_config.json',\n",
       " 'saved_prescription_model/special_tokens_map.json',\n",
       " 'saved_prescription_model/vocab.txt',\n",
       " 'saved_prescription_model/added_tokens.json',\n",
       " 'saved_prescription_model/tokenizer.json')"
      ]
     },
     "execution_count": 28,
     "metadata": {},
     "output_type": "execute_result"
    }
   ],
   "source": [
    "model.save_pretrained(\"saved_prescription_model\")\n",
    "tokenizer.save_pretrained(\"saved_prescription_model\")"
   ]
  },
  {
   "cell_type": "code",
   "execution_count": 29,
   "id": "2d4741af",
   "metadata": {
    "execution": {
     "iopub.execute_input": "2025-05-13T07:50:57.229838Z",
     "iopub.status.busy": "2025-05-13T07:50:57.229497Z",
     "iopub.status.idle": "2025-05-13T07:50:57.234656Z",
     "shell.execute_reply": "2025-05-13T07:50:57.233768Z"
    },
    "papermill": {
     "duration": 0.150335,
     "end_time": "2025-05-13T07:50:57.236225",
     "exception": false,
     "start_time": "2025-05-13T07:50:57.085890",
     "status": "completed"
    },
    "tags": []
   },
   "outputs": [],
   "source": [
    "def predict_on_new_image(image_path, model):\n",
    "    # OCR preprocessing\n",
    "    extracted_text = extract_text_with_ocr(image_path)\n",
    "    print(f\"\\nExtracted Text by OCR: {extracted_text.strip()}\")\n",
    "\n",
    "    inputs = tokenizer(extracted_text, return_tensors=\"tf\", padding='max_length', truncation=True, max_length=max_length)\n",
    "\n",
    "    # Predict\n",
    "    outputs = model(inputs)\n",
    "    pred_ids = tf.argmax(outputs.logits, axis=-1)\n",
    "\n",
    "    # Decode prediction\n",
    "    predicted_text = tokenizer.decode(pred_ids[0], skip_special_tokens=True)\n",
    "    print(f\"Predicted Text by Model: {predicted_text.strip()}\")\n"
   ]
  },
  {
   "cell_type": "code",
   "execution_count": null,
   "id": "f8d81ed7",
   "metadata": {
    "execution": {
     "iopub.execute_input": "2025-05-13T07:50:57.521450Z",
     "iopub.status.busy": "2025-05-13T07:50:57.521076Z",
     "iopub.status.idle": "2025-05-13T07:50:57.526020Z",
     "shell.execute_reply": "2025-05-13T07:50:57.524970Z"
    },
    "papermill": {
     "duration": 0.14737,
     "end_time": "2025-05-13T07:50:57.527451",
     "exception": false,
     "start_time": "2025-05-13T07:50:57.380081",
     "status": "completed"
    },
    "tags": []
   },
   "outputs": [
    {
     "name": "stdout",
     "output_type": "stream",
     "text": [
      "Extracted Text by OCR: Bnclon\n",
      "Predicted Text by Model:: Baclon\n"
     ]
    }
   ],
   "source": [
    "test_image_path1 = \"/kaggle/input/doctors-handwritten-prescription-bd-dataset/Doctor’s Handwritten Prescription BD dataset/Testing/testing_words/123.png\"\n",
    "predict_on_new_image(test_image_path1, model)\n"
   ]
  },
  {
   "cell_type": "code",
   "execution_count": null,
   "id": "3b4d5614",
   "metadata": {
    "execution": {
     "iopub.execute_input": "2025-05-13T07:50:57.813031Z",
     "iopub.status.busy": "2025-05-13T07:50:57.812631Z",
     "iopub.status.idle": "2025-05-13T07:50:57.817401Z",
     "shell.execute_reply": "2025-05-13T07:50:57.816554Z"
    },
    "papermill": {
     "duration": 0.150281,
     "end_time": "2025-05-13T07:50:57.818810",
     "exception": false,
     "start_time": "2025-05-13T07:50:57.668529",
     "status": "completed"
    },
    "tags": []
   },
   "outputs": [
    {
     "name": "stdout",
     "output_type": "stream",
     "text": [
      "Extracted Text by OCR: Aceta\n",
      "Predicted Text by Model:: Aceta\n"
     ]
    }
   ],
   "source": [
    "test_image_path2 = \"/kaggle/input/doctors-handwritten-prescription-bd-dataset/Doctor’s Handwritten Prescription BD dataset/Testing/testing_words/1.png\"\n",
    "predict_on_new_image(test_image_path2, model)"
   ]
  }
 ],
 "metadata": {
  "kaggle": {
   "accelerator": "none",
   "dataSources": [
    {
     "datasetId": 4982232,
     "sourceId": 8378585,
     "sourceType": "datasetVersion"
    }
   ],
   "dockerImageVersionId": 30886,
   "isGpuEnabled": false,
   "isInternetEnabled": true,
   "language": "python",
   "sourceType": "notebook"
  },
  "kernelspec": {
   "display_name": "Python 3",
   "language": "python",
   "name": "python3"
  },
  "language_info": {
   "codemirror_mode": {
    "name": "ipython",
    "version": 3
   },
   "file_extension": ".py",
   "mimetype": "text/x-python",
   "name": "python",
   "nbconvert_exporter": "python",
   "pygments_lexer": "ipython3",
   "version": "3.10.12"
  },
  "papermill": {
   "default_parameters": {},
   "duration": 1241.77265,
   "end_time": "2025-05-13T07:51:01.182832",
   "environment_variables": {},
   "exception": null,
   "input_path": "__notebook__.ipynb",
   "output_path": "__notebook__.ipynb",
   "parameters": {},
   "start_time": "2025-05-13T07:30:19.410182",
   "version": "2.6.0"
  }
 },
 "nbformat": 4,
 "nbformat_minor": 5
}
